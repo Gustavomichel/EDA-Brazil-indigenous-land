{
 "cells": [
  {
   "cell_type": "code",
   "execution_count": 1,
   "metadata": {},
   "outputs": [],
   "source": [
    "import pandas as pd\n",
    "import matplotlib.pyplot as plt\n"
   ]
  },
  {
   "cell_type": "code",
   "execution_count": 2,
   "metadata": {},
   "outputs": [],
   "source": [
    "dataset = pd.read_csv('Dataset\\BC250_2017_Terra_Indigena_A.csv')"
   ]
  },
  {
   "cell_type": "code",
   "execution_count": 3,
   "metadata": {},
   "outputs": [
    {
     "data": {
      "text/html": [
       "<div>\n",
       "<style scoped>\n",
       "    .dataframe tbody tr th:only-of-type {\n",
       "        vertical-align: middle;\n",
       "    }\n",
       "\n",
       "    .dataframe tbody tr th {\n",
       "        vertical-align: top;\n",
       "    }\n",
       "\n",
       "    .dataframe thead th {\n",
       "        text-align: right;\n",
       "    }\n",
       "</style>\n",
       "<table border=\"1\" class=\"dataframe\">\n",
       "  <thead>\n",
       "    <tr style=\"text-align: right;\">\n",
       "      <th></th>\n",
       "      <th>FID</th>\n",
       "      <th>id_objeto</th>\n",
       "      <th>nome</th>\n",
       "      <th>nomeabrev</th>\n",
       "      <th>geometriaaproximada</th>\n",
       "      <th>perimetrooficial</th>\n",
       "      <th>areaoficialha</th>\n",
       "      <th>grupoetnico</th>\n",
       "      <th>datasituacaojuridica</th>\n",
       "      <th>situacaojuridica</th>\n",
       "      <th>nometi</th>\n",
       "      <th>id_produtor</th>\n",
       "      <th>id_elementoprodutor</th>\n",
       "      <th>codigofunai</th>\n",
       "      <th>geom</th>\n",
       "    </tr>\n",
       "  </thead>\n",
       "  <tbody>\n",
       "    <tr>\n",
       "      <th>0</th>\n",
       "      <td>BC250_2017_Terra_Indigena_A.1</td>\n",
       "      <td>1</td>\n",
       "      <td>Pacheca</td>\n",
       "      <td>Pacheca</td>\n",
       "      <td>Não</td>\n",
       "      <td>28109800.0</td>\n",
       "      <td>185.21</td>\n",
       "      <td>Guarani</td>\n",
       "      <td>2001/1/15</td>\n",
       "      <td>Regularizada</td>\n",
       "      <td>Pacheca</td>\n",
       "      <td>250000</td>\n",
       "      <td>2.0</td>\n",
       "      <td>NaN</td>\n",
       "      <td>MULTIPOLYGON (((-51.817032999999896 -31.170511...</td>\n",
       "    </tr>\n",
       "    <tr>\n",
       "      <th>1</th>\n",
       "      <td>BC250_2017_Terra_Indigena_A.2</td>\n",
       "      <td>2</td>\n",
       "      <td>Cantagalo</td>\n",
       "      <td>Cantagalo</td>\n",
       "      <td>Não</td>\n",
       "      <td>885605.0</td>\n",
       "      <td>283.68</td>\n",
       "      <td>Guarani Mbyá</td>\n",
       "      <td>2007/1/11</td>\n",
       "      <td>Homologada ou demarcada</td>\n",
       "      <td>Cantagalo</td>\n",
       "      <td>250000</td>\n",
       "      <td>3.0</td>\n",
       "      <td>NaN</td>\n",
       "      <td>MULTIPOLYGON (((-51.0340119999999 -30.19090999...</td>\n",
       "    </tr>\n",
       "    <tr>\n",
       "      <th>2</th>\n",
       "      <td>BC250_2017_Terra_Indigena_A.3</td>\n",
       "      <td>3</td>\n",
       "      <td>Guarani de Águas Brancas</td>\n",
       "      <td>Guarani de Águas Brancas</td>\n",
       "      <td>Não</td>\n",
       "      <td>9000000.0</td>\n",
       "      <td>230.00</td>\n",
       "      <td>Guarani</td>\n",
       "      <td>1996/2/13</td>\n",
       "      <td>Declarada</td>\n",
       "      <td>Guarani de Águas Brancas</td>\n",
       "      <td>250000</td>\n",
       "      <td>4.0</td>\n",
       "      <td>NaN</td>\n",
       "      <td>MULTIPOLYGON (((-51.60478499999989 -30.766948,...</td>\n",
       "    </tr>\n",
       "    <tr>\n",
       "      <th>3</th>\n",
       "      <td>BC250_2017_Terra_Indigena_A.4</td>\n",
       "      <td>4</td>\n",
       "      <td>Capivari</td>\n",
       "      <td>Capivari</td>\n",
       "      <td>Não</td>\n",
       "      <td>3465950.0</td>\n",
       "      <td>43.32</td>\n",
       "      <td>Guarani Mbyá</td>\n",
       "      <td>2003/1/8</td>\n",
       "      <td>Regularizada</td>\n",
       "      <td>Capivari</td>\n",
       "      <td>250000</td>\n",
       "      <td>7.0</td>\n",
       "      <td>NaN</td>\n",
       "      <td>MULTIPOLYGON (((-50.359660999999896 -30.359487...</td>\n",
       "    </tr>\n",
       "    <tr>\n",
       "      <th>4</th>\n",
       "      <td>BC250_2017_Terra_Indigena_A.5</td>\n",
       "      <td>5</td>\n",
       "      <td>Salto Grande do Jacuí</td>\n",
       "      <td>Salto Grande do Jacuí</td>\n",
       "      <td>Não</td>\n",
       "      <td>7258320.0</td>\n",
       "      <td>234.96</td>\n",
       "      <td>Guarani</td>\n",
       "      <td>2002/11/20</td>\n",
       "      <td>Regularizada</td>\n",
       "      <td>Salto Grande do Jacuí</td>\n",
       "      <td>250000</td>\n",
       "      <td>1.0</td>\n",
       "      <td>NaN</td>\n",
       "      <td>MULTIPOLYGON (((-53.2281029999999 -29.07109199...</td>\n",
       "    </tr>\n",
       "  </tbody>\n",
       "</table>\n",
       "</div>"
      ],
      "text/plain": [
       "                             FID  id_objeto                      nome  \\\n",
       "0  BC250_2017_Terra_Indigena_A.1          1                   Pacheca   \n",
       "1  BC250_2017_Terra_Indigena_A.2          2                 Cantagalo   \n",
       "2  BC250_2017_Terra_Indigena_A.3          3  Guarani de Águas Brancas   \n",
       "3  BC250_2017_Terra_Indigena_A.4          4                  Capivari   \n",
       "4  BC250_2017_Terra_Indigena_A.5          5     Salto Grande do Jacuí   \n",
       "\n",
       "                  nomeabrev geometriaaproximada  perimetrooficial  \\\n",
       "0                   Pacheca                 Não        28109800.0   \n",
       "1                 Cantagalo                 Não          885605.0   \n",
       "2  Guarani de Águas Brancas                 Não         9000000.0   \n",
       "3                  Capivari                 Não         3465950.0   \n",
       "4     Salto Grande do Jacuí                 Não         7258320.0   \n",
       "\n",
       "   areaoficialha   grupoetnico datasituacaojuridica         situacaojuridica  \\\n",
       "0         185.21       Guarani            2001/1/15             Regularizada   \n",
       "1         283.68  Guarani Mbyá            2007/1/11  Homologada ou demarcada   \n",
       "2         230.00       Guarani            1996/2/13                Declarada   \n",
       "3          43.32  Guarani Mbyá             2003/1/8             Regularizada   \n",
       "4         234.96       Guarani           2002/11/20             Regularizada   \n",
       "\n",
       "                     nometi  id_produtor  id_elementoprodutor  codigofunai  \\\n",
       "0                   Pacheca       250000                  2.0          NaN   \n",
       "1                 Cantagalo       250000                  3.0          NaN   \n",
       "2  Guarani de Águas Brancas       250000                  4.0          NaN   \n",
       "3                  Capivari       250000                  7.0          NaN   \n",
       "4     Salto Grande do Jacuí       250000                  1.0          NaN   \n",
       "\n",
       "                                                geom  \n",
       "0  MULTIPOLYGON (((-51.817032999999896 -31.170511...  \n",
       "1  MULTIPOLYGON (((-51.0340119999999 -30.19090999...  \n",
       "2  MULTIPOLYGON (((-51.60478499999989 -30.766948,...  \n",
       "3  MULTIPOLYGON (((-50.359660999999896 -30.359487...  \n",
       "4  MULTIPOLYGON (((-53.2281029999999 -29.07109199...  "
      ]
     },
     "execution_count": 3,
     "metadata": {},
     "output_type": "execute_result"
    }
   ],
   "source": [
    "dataset.head()"
   ]
  },
  {
   "cell_type": "code",
   "execution_count": 4,
   "metadata": {
    "tags": []
   },
   "outputs": [],
   "source": [
    "dataset = dataset.drop(columns=[\"FID\",\"nome\",\"geometriaaproximada\",\"datasituacaojuridica\",\"nometi\", \"id_produtor\",\"codigofunai\",\"id_elementoprodutor\", \"geom\", \"id_objeto\", \"areaoficialha\"]).dropna()\n"
   ]
  },
  {
   "cell_type": "code",
   "execution_count": 5,
   "metadata": {},
   "outputs": [],
   "source": [
    "dataset = dataset.groupby('nomeabrev')['perimetrooficial'].sum()"
   ]
  },
  {
   "cell_type": "code",
   "execution_count": 6,
   "metadata": {},
   "outputs": [
    {
     "data": {
      "text/plain": [
       "nomeabrev\n",
       "Anambé           42.3015\n",
       "Ananás           28.0000\n",
       "Andirá-Marau    477.0000\n",
       "Aningal          40.2540\n",
       "Anta             33.6622\n",
       "Name: perimetrooficial, dtype: float64"
      ]
     },
     "execution_count": 6,
     "metadata": {},
     "output_type": "execute_result"
    }
   ],
   "source": [
    "dataset.head()"
   ]
  },
  {
   "cell_type": "code",
   "execution_count": 7,
   "metadata": {},
   "outputs": [],
   "source": [
    "y = dataset"
   ]
  },
  {
   "cell_type": "code",
   "execution_count": 8,
   "metadata": {},
   "outputs": [
    {
     "data": {
      "image/png": "[encoded data removed]",
      "text/plain": [
       "<Figure size 640x480 with 1 Axes>"
      ]
     },
     "metadata": {},
     "output_type": "display_data"
    }
   ],
   "source": [
    "plt.pie(y, explode= None, labels=dataset)\n",
    "plt.show()"
   ]
  }
 ],
 "metadata": {
  "kernelspec": {
   "display_name": "Python 3.10.7 ('venv': venv)",
   "language": "python",
   "name": "python3"
  },
  "language_info": {
   "codemirror_mode": {
    "name": "ipython",
    "version": 3
   },
   "file_extension": ".py",
   "mimetype": "text/x-python",
   "name": "python",
   "nbconvert_exporter": "python",
   "pygments_lexer": "ipython3",
   "version": "3.10.7"
  },
  "orig_nbformat": 4,
  "vscode": {
   "interpreter": {
    "hash": "058ab87758f13cd8ce474dbff36593bb513fa0bafee04dfb357f6788a3a4bebf"
   }
  }
 },
 "nbformat": 4,
 "nbformat_minor": 2
}
